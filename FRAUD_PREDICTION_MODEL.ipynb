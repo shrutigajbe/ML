{
 "cells": [
  {
   "cell_type": "code",
   "execution_count": 1,
   "id": "7cdb17fa",
   "metadata": {},
   "outputs": [],
   "source": [
    "import pandas as pd"
   ]
  },
  {
   "cell_type": "code",
   "execution_count": 2,
   "id": "da4d0c69",
   "metadata": {},
   "outputs": [],
   "source": [
    "transactions = pd.read_csv(\"C:/Users/shrut/OneDrive/Desktop/Fraud.csv\")"
   ]
  },
  {
   "cell_type": "code",
   "execution_count": 3,
   "id": "7bcaeed8",
   "metadata": {},
   "outputs": [],
   "source": [
    "transactions = transactions.rename(columns={\n",
    "    'type': 'type',\n",
    "    'amount': 'amount',\n",
    "    'nameOrig': 'nameOrig',\n",
    "    'oldbalanceOrig': 'oldbalanceOrig',\n",
    "    'newbalanceOrig': 'newbalanceOrig',\n",
    "    'nameDest': 'nameDest',\n",
    "    'oldbalanceDest': 'oldbalanceDest',\n",
    "    'newbalanceDest': 'newbalanceDest',\n",
    "    'isFraud': 'isFraud',\n",
    "    'isFlaggedFraud': 'isFlaggedFraud'\n",
    "})"
   ]
  },
  {
   "cell_type": "code",
   "execution_count": 4,
   "id": "1b45add0",
   "metadata": {},
   "outputs": [
    {
     "name": "stdout",
     "output_type": "stream",
     "text": [
      "Index(['step', 'type', 'amount', 'nameOrig', 'oldbalanceOrg', 'newbalanceOrig',\n",
      "       'nameDest', 'oldbalanceDest', 'newbalanceDest', 'isFraud',\n",
      "       'isFlaggedFraud'],\n",
      "      dtype='object')\n"
     ]
    }
   ],
   "source": [
    "print(transactions.columns)"
   ]
  },
  {
   "cell_type": "code",
   "execution_count": 5,
   "id": "2d905f75",
   "metadata": {},
   "outputs": [],
   "source": [
    "transactions = transactions.rename(columns={'oldbalanceOrig': 'oldBalanceOrig'})"
   ]
  },
  {
   "cell_type": "code",
   "execution_count": 18,
   "id": "ac86e5c8",
   "metadata": {},
   "outputs": [],
   "source": [
    "def process_transaction(transaction):\n",
    "    type = transaction.get('type', 'Unknown')\n",
    "    amount = transaction.get('amount', 0)\n",
    "    nameOrig = transaction.get('nameOrig', 'Unknown')\n",
    "    oldbalanceOrig = transaction.get('oldbalanceOrig', 0)\n",
    "    newbalanceOrig = transaction.get('newbalanceOrig', 0)\n",
    "    nameDest = transaction.get('nameDest', 'Unknown')\n",
    "    oldbalanceDest = transaction.get('oldbalanceDest', 0)\n",
    "    newbalanceDest = transaction.get('newbalanceDest', 0)\n",
    "    isFraud = transaction.get('isFraud', False)\n",
    "    isFlaggedFraud = transaction.get('isFlaggedFraud', False)\n",
    "    \n",
    "    print(f\"Transaction Type: {type}\")\n",
    "    print(f\"Amount: {amount}\")\n",
    "    print(f\"Name (Origin): {nameOrig}\")\n",
    "    print(f\"Old Balance (Origin): {oldbalanceOrig}\")\n",
    "    print(f\"New Balance (Origin): {newbalanceOrig}\")\n",
    "    print(f\"Name (Destination): {nameDest}\")\n",
    "    print(f\"Old Balance (Destination): {oldbalanceDest}\")\n",
    "    print(f\"New Balance (Destination): {newbalanceDest}\")\n",
    "    print(f\"Is Fraud: {isFraud}\")\n",
    "    print(f\"Is Flagged Fraud: {isFlaggedFraud}\")\n",
    "    print(\"--------------------------------------------\")"
   ]
  },
  {
   "cell_type": "code",
   "execution_count": 19,
   "id": "0e5206a7",
   "metadata": {},
   "outputs": [
    {
     "name": "stdout",
     "output_type": "stream",
     "text": [
      "Transaction Type: PAYMENT\n",
      "Amount: 9839.64\n",
      "Name (Origin): C1231006815\n",
      "Old Balance (Origin): 0\n",
      "New Balance (Origin): 160296.36\n",
      "Name (Destination): M1979787155\n",
      "Old Balance (Destination): 0.0\n",
      "New Balance (Destination): 0.0\n",
      "Is Fraud: 0\n",
      "Is Flagged Fraud: 0\n",
      "--------------------------------------------\n",
      "Transaction Type: PAYMENT\n",
      "Amount: 1864.28\n",
      "Name (Origin): C1666544295\n",
      "Old Balance (Origin): 0\n",
      "New Balance (Origin): 19384.72\n",
      "Name (Destination): M2044282225\n",
      "Old Balance (Destination): 0.0\n",
      "New Balance (Destination): 0.0\n",
      "Is Fraud: 0\n",
      "Is Flagged Fraud: 0\n",
      "--------------------------------------------\n",
      "Transaction Type: TRANSFER\n",
      "Amount: 181.0\n",
      "Name (Origin): C1305486145\n",
      "Old Balance (Origin): 0\n",
      "New Balance (Origin): 0.0\n",
      "Name (Destination): C553264065\n",
      "Old Balance (Destination): 0.0\n",
      "New Balance (Destination): 0.0\n",
      "Is Fraud: 1\n",
      "Is Flagged Fraud: 0\n",
      "--------------------------------------------\n",
      "Transaction Type: CASH_OUT\n",
      "Amount: 181.0\n",
      "Name (Origin): C840083671\n",
      "Old Balance (Origin): 0\n",
      "New Balance (Origin): 0.0\n",
      "Name (Destination): C38997010\n",
      "Old Balance (Destination): 21182.0\n",
      "New Balance (Destination): 0.0\n",
      "Is Fraud: 1\n",
      "Is Flagged Fraud: 0\n",
      "--------------------------------------------\n",
      "Transaction Type: PAYMENT\n",
      "Amount: 11668.14\n",
      "Name (Origin): C2048537720\n",
      "Old Balance (Origin): 0\n",
      "New Balance (Origin): 29885.86\n",
      "Name (Destination): M1230701703\n",
      "Old Balance (Destination): 0.0\n",
      "New Balance (Destination): 0.0\n",
      "Is Fraud: 0\n",
      "Is Flagged Fraud: 0\n",
      "--------------------------------------------\n",
      "Transaction Type: PAYMENT\n",
      "Amount: 7817.71\n",
      "Name (Origin): C90045638\n",
      "Old Balance (Origin): 0\n",
      "New Balance (Origin): 46042.29\n",
      "Name (Destination): M573487274\n",
      "Old Balance (Destination): 0.0\n",
      "New Balance (Destination): 0.0\n",
      "Is Fraud: 0\n",
      "Is Flagged Fraud: 0\n",
      "--------------------------------------------\n",
      "Transaction Type: PAYMENT\n",
      "Amount: 7107.77\n",
      "Name (Origin): C154988899\n",
      "Old Balance (Origin): 0\n",
      "New Balance (Origin): 176087.23\n",
      "Name (Destination): M408069119\n",
      "Old Balance (Destination): 0.0\n",
      "New Balance (Destination): 0.0\n",
      "Is Fraud: 0\n",
      "Is Flagged Fraud: 0\n",
      "--------------------------------------------\n",
      "Transaction Type: PAYMENT\n",
      "Amount: 7861.64\n",
      "Name (Origin): C1912850431\n",
      "Old Balance (Origin): 0\n",
      "New Balance (Origin): 168225.59\n",
      "Name (Destination): M633326333\n",
      "Old Balance (Destination): 0.0\n",
      "New Balance (Destination): 0.0\n",
      "Is Fraud: 0\n",
      "Is Flagged Fraud: 0\n",
      "--------------------------------------------\n",
      "Transaction Type: PAYMENT\n",
      "Amount: 4024.36\n",
      "Name (Origin): C1265012928\n",
      "Old Balance (Origin): 0\n",
      "New Balance (Origin): 0.0\n",
      "Name (Destination): M1176932104\n",
      "Old Balance (Destination): 0.0\n",
      "New Balance (Destination): 0.0\n",
      "Is Fraud: 0\n",
      "Is Flagged Fraud: 0\n",
      "--------------------------------------------\n",
      "Transaction Type: DEBIT\n",
      "Amount: 5337.77\n",
      "Name (Origin): C712410124\n",
      "Old Balance (Origin): 0\n",
      "New Balance (Origin): 36382.23\n",
      "Name (Destination): C195600860\n",
      "Old Balance (Destination): 41898.0\n",
      "New Balance (Destination): 40348.79\n",
      "Is Fraud: 0\n",
      "Is Flagged Fraud: 0\n",
      "--------------------------------------------\n"
     ]
    }
   ],
   "source": [
    "num_transactions_to_process = 10\n",
    "num_transactions_processed = 0\n",
    "\n",
    "for index, transaction in transactions.iterrows():\n",
    "    process_transaction(transaction)\n",
    "    num_transactions_processed += 1\n",
    "    if num_transactions_processed >= num_transactions_to_process:\n",
    "        break"
   ]
  },
  {
   "cell_type": "code",
   "execution_count": 27,
   "id": "e8a466ed",
   "metadata": {},
   "outputs": [],
   "source": [
    "def process_transaction(transaction):\n",
    "    type = transaction['type']\n",
    "    amount = transaction['amount']\n",
    "    nameOrig = transaction['nameOrig']\n",
    "    oldbalanceOrig = transaction['oldbalanceOrig']\n",
    "    newbalanceOrig = transaction['newbalanceOrig']\n",
    "    nameDest = transaction['nameDest']\n",
    "    oldbalanceDest = transaction['oldbalanceDest']\n",
    "    newbalanceDest = transaction['newbalanceDest']\n",
    "    isFraud = transaction['isFraud']\n",
    "    isfraud = 1"
   ]
  },
  {
   "cell_type": "code",
   "execution_count": 28,
   "id": "a397892e",
   "metadata": {},
   "outputs": [],
   "source": [
    "fraud_count = transactions['isFraud'].sum()"
   ]
  },
  {
   "cell_type": "code",
   "execution_count": 29,
   "id": "eff345b8",
   "metadata": {},
   "outputs": [
    {
     "name": "stdout",
     "output_type": "stream",
     "text": [
      "Total Fraudulent Transactions: 8213\n"
     ]
    }
   ],
   "source": [
    "print(f'Total Fraudulent Transactions: {fraud_count}')"
   ]
  },
  {
   "cell_type": "code",
   "execution_count": 32,
   "id": "b24d7df0",
   "metadata": {},
   "outputs": [],
   "source": [
    "fraudulent_transactions = transactions[transactions['isFraud'] == 1]"
   ]
  },
  {
   "cell_type": "code",
   "execution_count": 33,
   "id": "eefc6909",
   "metadata": {},
   "outputs": [],
   "source": [
    "for index, row in fraudulent_transactions.iterrows():\n",
    "    transaction_id = index + 1"
   ]
  },
  {
   "cell_type": "code",
   "execution_count": 34,
   "id": "1ca3a58d",
   "metadata": {},
   "outputs": [
    {
     "name": "stdout",
     "output_type": "stream",
     "text": [
      "Transaction ID: 6362620, Fraud Status: Fraudulent\n"
     ]
    }
   ],
   "source": [
    "print(f'Transaction ID: {transaction_id}, Fraud Status: Fraudulent')"
   ]
  },
  {
   "cell_type": "code",
   "execution_count": 47,
   "id": "cd196a4c",
   "metadata": {},
   "outputs": [],
   "source": [
    "fraudulent_transactions = transactions[(transactions['isFraud'] == 1) | (transactions['isFlaggedFraud'] == 1)]"
   ]
  },
  {
   "cell_type": "code",
   "execution_count": 54,
   "id": "de7f1cb7",
   "metadata": {},
   "outputs": [],
   "source": [
    "for index, row in fraudulent_transactions.iterrows():\n",
    "    transaction_id = index + 1"
   ]
  },
  {
   "cell_type": "code",
   "execution_count": 55,
   "id": "68bdc65b",
   "metadata": {},
   "outputs": [
    {
     "name": "stdout",
     "output_type": "stream",
     "text": [
      "Transaction ID: 6362620, isFraud: 1, isFlaggedFraud: 0\n"
     ]
    }
   ],
   "source": [
    "print(f'Transaction ID: {transaction_id}, isFraud: {row[\"isFraud\"]}, isFlaggedFraud: {row[\"isFlaggedFraud\"]}')"
   ]
  },
  {
   "cell_type": "code",
   "execution_count": 57,
   "id": "70782419",
   "metadata": {},
   "outputs": [],
   "source": [
    "fraudulent_transactions = transactions[transactions['isFraud'] == 1]"
   ]
  },
  {
   "cell_type": "code",
   "execution_count": 58,
   "id": "3b04c926",
   "metadata": {},
   "outputs": [],
   "source": [
    "for index, row in fraudulent_transactions.iterrows():\n",
    "    transaction_id = index + 1"
   ]
  },
  {
   "cell_type": "code",
   "execution_count": 60,
   "id": "e7f64233",
   "metadata": {},
   "outputs": [
    {
     "name": "stdout",
     "output_type": "stream",
     "text": [
      "Transaction ID: 6362620, isFraud: 1, isFlaggedFraud: 0, Type: CASH_OUT, Amount: 850002.52, Name (Origin): C1280323807, Name (Destination): C873221189\n"
     ]
    }
   ],
   "source": [
    "print(f'Transaction ID: {transaction_id}, isFraud: {row[\"isFraud\"]}, isFlaggedFraud: {row[\"isFlaggedFraud\"]}, Type: {row[\"type\"]}, Amount: {row[\"amount\"]}, Name (Origin): {row[\"nameOrig\"]}, Name (Destination): {row[\"nameDest\"]}')"
   ]
  },
  {
   "cell_type": "code",
   "execution_count": null,
   "id": "ff073c68",
   "metadata": {},
   "outputs": [],
   "source": []
  },
  {
   "cell_type": "code",
   "execution_count": null,
   "id": "ad5fe4e3",
   "metadata": {},
   "outputs": [],
   "source": []
  }
 ],
 "metadata": {
  "kernelspec": {
   "display_name": "Python 3 (ipykernel)",
   "language": "python",
   "name": "python3"
  },
  "language_info": {
   "codemirror_mode": {
    "name": "ipython",
    "version": 3
   },
   "file_extension": ".py",
   "mimetype": "text/x-python",
   "name": "python",
   "nbconvert_exporter": "python",
   "pygments_lexer": "ipython3",
   "version": "3.11.5"
  }
 },
 "nbformat": 4,
 "nbformat_minor": 5
}
